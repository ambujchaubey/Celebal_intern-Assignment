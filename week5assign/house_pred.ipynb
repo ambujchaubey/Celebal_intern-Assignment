{
 "cells": [
  {
   "cell_type": "markdown",
   "id": "e9e9c7f5-020a-4d3f-839a-bb3af81927a3",
   "metadata": {},
   "source": [
    "## Data Loading and Exploration"
   ]
  },
  {
   "cell_type": "code",
   "execution_count": 6,
   "id": "33ce9d5a-99fa-4879-9f86-4a900d7b1bbd",
   "metadata": {},
   "outputs": [],
   "source": [
    "import pandas as pd\n",
    "import numpy as np\n",
    "import matplotlib.pyplot as plt\n",
    "import seaborn as sns\n",
    "from sklearn.model_selection import train_test_split\n",
    "from sklearn.preprocessing import StandardScaler, LabelEncoder\n",
    "from sklearn.impute import SimpleImputer\n",
    "train_df = pd.read_csv('train.csv')   #Load the data\n",
    "test_df = pd.read_csv('test.csv')\n",
    "y = train_df['SalePrice']\n",
    "train_df = train_df.drop('SalePrice', axis=1) #the target variable\n",
    "\n",
    "all_data = pd.concat([train_df, test_df], axis=0, ignore_index=True)# train and test for preprocessing"
   ]
  },
  {
   "cell_type": "markdown",
   "id": "f46751d4-e760-4af3-8308-16db65ac98e1",
   "metadata": {},
   "source": [
    "## Exploration Missing Value Analysis"
   ]
  },
  {
   "cell_type": "code",
   "execution_count": 7,
   "id": "fbbae266-bf77-4fa6-bdc0-d2f747c30ce3",
   "metadata": {},
   "outputs": [
    {
     "name": "stdout",
     "output_type": "stream",
     "text": [
      "<class 'pandas.core.frame.DataFrame'>\n",
      "RangeIndex: 1460 entries, 0 to 1459\n",
      "Data columns (total 77 columns):\n",
      " #   Column         Non-Null Count  Dtype  \n",
      "---  ------         --------------  -----  \n",
      " 0   Id             1460 non-null   int64  \n",
      " 1   MSSubClass     1460 non-null   int64  \n",
      " 2   MSZoning       1460 non-null   int32  \n",
      " 3   LotFrontage    1460 non-null   float64\n",
      " 4   LotArea        1460 non-null   int64  \n",
      " 5   Street         1460 non-null   object \n",
      " 6   LotShape       1460 non-null   object \n",
      " 7   LandContour    1460 non-null   object \n",
      " 8   Utilities      1460 non-null   object \n",
      " 9   LotConfig      1460 non-null   object \n",
      " 10  LandSlope      1460 non-null   object \n",
      " 11  Neighborhood   1460 non-null   object \n",
      " 12  Condition1     1460 non-null   object \n",
      " 13  Condition2     1460 non-null   object \n",
      " 14  BldgType       1460 non-null   object \n",
      " 15  HouseStyle     1460 non-null   object \n",
      " 16  OverallQual    1460 non-null   int64  \n",
      " 17  OverallCond    1460 non-null   int64  \n",
      " 18  YearBuilt      1460 non-null   int64  \n",
      " 19  YearRemodAdd   1460 non-null   int64  \n",
      " 20  RoofStyle      1460 non-null   object \n",
      " 21  RoofMatl       1460 non-null   object \n",
      " 22  Exterior1st    1460 non-null   object \n",
      " 23  Exterior2nd    1460 non-null   object \n",
      " 24  MasVnrType     1460 non-null   object \n",
      " 25  MasVnrArea     1460 non-null   float64\n",
      " 26  ExterQual      1460 non-null   object \n",
      " 27  ExterCond      1460 non-null   object \n",
      " 28  Foundation     1460 non-null   object \n",
      " 29  BsmtQual       1460 non-null   object \n",
      " 30  BsmtCond       1460 non-null   object \n",
      " 31  BsmtExposure   1460 non-null   object \n",
      " 32  BsmtFinType1   1460 non-null   object \n",
      " 33  BsmtFinSF1     1460 non-null   int64  \n",
      " 34  BsmtFinType2   1460 non-null   object \n",
      " 35  BsmtFinSF2     1460 non-null   int64  \n",
      " 36  BsmtUnfSF      1460 non-null   int64  \n",
      " 37  TotalBsmtSF    1460 non-null   int64  \n",
      " 38  Heating        1460 non-null   object \n",
      " 39  HeatingQC      1460 non-null   object \n",
      " 40  CentralAir     1460 non-null   object \n",
      " 41  Electrical     1460 non-null   object \n",
      " 42  1stFlrSF       1460 non-null   int64  \n",
      " 43  2ndFlrSF       1460 non-null   int64  \n",
      " 44  LowQualFinSF   1460 non-null   int64  \n",
      " 45  GrLivArea      1460 non-null   int64  \n",
      " 46  BsmtFullBath   1460 non-null   int64  \n",
      " 47  BsmtHalfBath   1460 non-null   int64  \n",
      " 48  FullBath       1460 non-null   int64  \n",
      " 49  HalfBath       1460 non-null   int64  \n",
      " 50  BedroomAbvGr   1460 non-null   int64  \n",
      " 51  KitchenAbvGr   1460 non-null   int64  \n",
      " 52  KitchenQual    1460 non-null   object \n",
      " 53  TotRmsAbvGrd   1460 non-null   int64  \n",
      " 54  Functional     1460 non-null   object \n",
      " 55  Fireplaces     1460 non-null   int64  \n",
      " 56  FireplaceQu    1460 non-null   object \n",
      " 57  GarageType     1460 non-null   object \n",
      " 58  GarageYrBlt    1460 non-null   float64\n",
      " 59  GarageFinish   1460 non-null   object \n",
      " 60  GarageCars     1460 non-null   int64  \n",
      " 61  GarageArea     1460 non-null   int64  \n",
      " 62  GarageQual     1460 non-null   object \n",
      " 63  GarageCond     1460 non-null   object \n",
      " 64  PavedDrive     1460 non-null   object \n",
      " 65  WoodDeckSF     1460 non-null   int64  \n",
      " 66  OpenPorchSF    1460 non-null   int64  \n",
      " 67  EnclosedPorch  1460 non-null   int64  \n",
      " 68  3SsnPorch      1460 non-null   int64  \n",
      " 69  ScreenPorch    1460 non-null   int64  \n",
      " 70  PoolArea       1460 non-null   int64  \n",
      " 71  MiscVal        1460 non-null   int64  \n",
      " 72  MoSold         1460 non-null   int64  \n",
      " 73  YrSold         1460 non-null   int64  \n",
      " 74  SaleType       1460 non-null   object \n",
      " 75  SaleCondition  1460 non-null   object \n",
      " 76  SalePrice      1460 non-null   int64  \n",
      "dtypes: float64(3), int32(1), int64(35), object(38)\n",
      "memory usage: 872.7+ KB\n",
      "              Missing Values  % of Total Values\n",
      "PoolQC                  2909               99.7\n",
      "MiscFeature             2814               96.4\n",
      "Alley                   2721               93.2\n",
      "Fence                   2348               80.4\n",
      "MasVnrType              1766               60.5\n",
      "FireplaceQu             1420               48.6\n",
      "LotFrontage              486               16.6\n",
      "GarageFinish             159                5.4\n",
      "GarageQual               159                5.4\n",
      "GarageCond               159                5.4\n"
     ]
    }
   ],
   "source": [
    "train.shape, test.shape\n",
    "train.info()\n",
    "train.describe()\n",
    "# Analyze missing values\n",
    "def missing_values_table(df):\n",
    "    mis_val = df.isnull().sum()\n",
    "    mis_val_percent = 100 * df.isnull().sum() / len(df)\n",
    "    mis_val_table = pd.concat([mis_val, mis_val_percent], axis=1)\n",
    "    mis_val_table_ren_columns = mis_val_table.rename(\n",
    "        columns={0: 'Missing Values', 1: '% of Total Values'})\n",
    "    mis_val_table_ren_columns = mis_val_table_ren_columns[\n",
    "        mis_val_table_ren_columns.iloc[:, 1] != 0].sort_values(\n",
    "        '% of Total Values', ascending=False).round(1)\n",
    "    return mis_val_table_ren_columns\n",
    "\n",
    "missing_df = missing_values_table(all_data)\n",
    "print(missing_df.head(10))"
   ]
  },
  {
   "cell_type": "markdown",
   "id": "d9ffe11b-9508-4671-a42a-0e99bf8b4db3",
   "metadata": {},
   "source": [
    "## Handling Missing Values\r\n"
   ]
  },
  {
   "cell_type": "code",
   "execution_count": 8,
   "id": "e262a95d-4dac-4eba-a8e6-288856d00891",
   "metadata": {},
   "outputs": [],
   "source": [
    "# Features where NA means \"None\"\n",
    "none_features = ['PoolQC', 'MiscFeature', 'Alley', 'Fence', 'FireplaceQu',\n",
    "                 'GarageType', 'GarageFinish', 'GarageQual', 'GarageCond',\n",
    "                 'BsmtQual', 'BsmtCond', 'BsmtExposure', 'BsmtFinType1', \n",
    "                 'BsmtFinType2', 'MasVnrType']\n",
    "\n",
    "for feature in none_features:\n",
    "    all_data[feature] = all_data[feature].fillna('None')\n",
    "\n",
    "# Features to fill with 0\n",
    "zero_features = ['GarageYrBlt', 'GarageArea', 'GarageCars', 'BsmtFinSF1',\n",
    "                 'BsmtFinSF2', 'BsmtUnfSF', 'TotalBsmtSF', 'BsmtFullBath',\n",
    "                 'BsmtHalfBath', 'MasVnrArea']\n",
    "\n",
    "for feature in zero_features:\n",
    "    all_data[feature] = all_data[feature].fillna(0)\n",
    "\n",
    "# Features to fill with mode\n",
    "mode_features = ['Electrical', 'MSZoning', 'Functional', 'Utilities',\n",
    "                 'SaleType', 'KitchenQual', 'Exterior1st', 'Exterior2nd']\n",
    "\n",
    "for feature in mode_features:\n",
    "    all_data[feature] = all_data[feature].fillna(all_data[feature].mode()[0])\n",
    "\n",
    "# LotFrontage: Fill with median of the neighborhood\n",
    "all_data['LotFrontage'] = all_data.groupby('Neighborhood')['LotFrontage'].transform(\n",
    "    lambda x: x.fillna(x.median()))"
   ]
  },
  {
   "cell_type": "markdown",
   "id": "adbfaeab-cd97-4a64-b3e0-432fe1308569",
   "metadata": {},
   "source": [
    "## Feature Engineering"
   ]
  },
  {
   "cell_type": "code",
   "execution_count": 9,
   "id": "9d06373a-83e2-4dd6-977a-061cdaf50daa",
   "metadata": {},
   "outputs": [],
   "source": [
    "# Create new features\n",
    "# Total square footage\n",
    "all_data['TotalSF'] = all_data['TotalBsmtSF'] + all_data['1stFlrSF'] + all_data['2ndFlrSF']\n",
    "\n",
    "# Total bathrooms\n",
    "all_data['TotalBathrooms'] = (all_data['FullBath'] + \n",
    "                               (0.5 * all_data['HalfBath']) + \n",
    "                               all_data['BsmtFullBath'] + \n",
    "                               (0.5 * all_data['BsmtHalfBath']))\n",
    "\n",
    "# Total porch square footage\n",
    "porch_features = ['WoodDeckSF', 'OpenPorchSF', 'EnclosedPorch', '3SsnPorch', 'ScreenPorch']\n",
    "all_data['TotalPorchSF'] = all_data[porch_features].sum(axis=1)\n",
    "\n",
    "# Has features\n",
    "all_data['HasPool'] = all_data['PoolArea'].apply(lambda x: 1 if x > 0 else 0)\n",
    "all_data['HasGarage'] = all_data['GarageArea'].apply(lambda x: 1 if x > 0 else 0)\n",
    "all_data['HasBsmt'] = all_data['TotalBsmtSF'].apply(lambda x: 1 if x > 0 else 0)\n",
    "all_data['HasFireplace'] = all_data['Fireplaces'].apply(lambda x: 1 if x > 0 else 0)\n",
    "\n",
    "# Age features\n",
    "all_data['Age'] = all_data['YrSold'] - all_data['YearBuilt']\n",
    "all_data['AgeRemod'] = all_data['YrSold'] - all_data['YearRemodAdd']\n",
    "\n",
    "# Quality features\n",
    "all_data['OverallScore'] = all_data['OverallQual'] * all_data['OverallCond']\n",
    "all_data['GarageScore'] = all_data['GarageQual'].map({'Ex': 5, 'Gd': 4, 'TA': 3, \n",
    "                                                       'Fa': 2, 'Po': 1, 'None': 0}) * \\\n",
    "                         all_data['GarageCond'].map({'Ex': 5, 'Gd': 4, 'TA': 3, \n",
    "                                                     'Fa': 2, 'Po': 1, 'None': 0})"
   ]
  },
  {
   "cell_type": "markdown",
   "id": "d8450f6e-b6e1-4391-a4fc-e09932e69e55",
   "metadata": {},
   "source": [
    "## Encoding Categorical Variables"
   ]
  },
  {
   "cell_type": "code",
   "execution_count": 10,
   "id": "e484b92d-96eb-407e-b074-931519df590e",
   "metadata": {},
   "outputs": [],
   "source": [
    "# Ordinal encoding for features with clear ordering\n",
    "ordinal_features = {\n",
    "    'ExterQual': {'Po': 1, 'Fa': 2, 'TA': 3, 'Gd': 4, 'Ex': 5},\n",
    "    'ExterCond': {'Po': 1, 'Fa': 2, 'TA': 3, 'Gd': 4, 'Ex': 5},\n",
    "    'BsmtQual': {'None': 0, 'Po': 1, 'Fa': 2, 'TA': 3, 'Gd': 4, 'Ex': 5},\n",
    "    'BsmtCond': {'None': 0, 'Po': 1, 'Fa': 2, 'TA': 3, 'Gd': 4, 'Ex': 5},\n",
    "    'HeatingQC': {'Po': 1, 'Fa': 2, 'TA': 3, 'Gd': 4, 'Ex': 5},\n",
    "    'KitchenQual': {'Po': 1, 'Fa': 2, 'TA': 3, 'Gd': 4, 'Ex': 5},\n",
    "    'FireplaceQu': {'None': 0, 'Po': 1, 'Fa': 2, 'TA': 3, 'Gd': 4, 'Ex': 5},\n",
    "    'GarageQual': {'None': 0, 'Po': 1, 'Fa': 2, 'TA': 3, 'Gd': 4, 'Ex': 5},\n",
    "    'GarageCond': {'None': 0, 'Po': 1, 'Fa': 2, 'TA': 3, 'Gd': 4, 'Ex': 5},\n",
    "    'PoolQC': {'None': 0, 'Fa': 1, 'TA': 2, 'Gd': 3, 'Ex': 4},\n",
    "    'BsmtExposure': {'None': 0, 'No': 1, 'Mn': 2, 'Av': 3, 'Gd': 4},\n",
    "    'BsmtFinType1': {'None': 0, 'Unf': 1, 'LwQ': 2, 'Rec': 3, 'BLQ': 4, 'ALQ': 5, 'GLQ': 6},\n",
    "    'BsmtFinType2': {'None': 0, 'Unf': 1, 'LwQ': 2, 'Rec': 3, 'BLQ': 4, 'ALQ': 5, 'GLQ': 6},\n",
    "    'Functional': {'Typ': 0, 'Min1': 1, 'Min2': 2, 'Mod': 3, 'Maj1': 4, 'Maj2': 5, 'Sev': 6, 'Sal': 7},\n",
    "    'Fence': {'None': 0, 'MnWw': 1, 'GdWo': 2, 'MnPrv': 3, 'GdPrv': 4},\n",
    "}\n",
    "\n",
    "for feature, mapping in ordinal_features.items():\n",
    "    all_data[feature] = all_data[feature].map(mapping)\n",
    "\n",
    "# One-hot encoding for nominal features\n",
    "nominal_features = all_data.select_dtypes(include=['object']).columns\n",
    "all_data = pd.get_dummies(all_data, columns=nominal_features, drop_first=True)"
   ]
  },
  {
   "cell_type": "markdown",
   "id": "770ab83e-0474-4cf2-9e32-66b62fad7c6e",
   "metadata": {},
   "source": [
    "## Outlier Detection and Removal"
   ]
  },
  {
   "cell_type": "code",
   "execution_count": 11,
   "id": "34997084-0d82-4def-ae31-3abf896568d9",
   "metadata": {},
   "outputs": [],
   "source": [
    "# Remove outliers from training data (only for specific features)\n",
    "def remove_outliers(df, features, n_std=3):\n",
    "    outlier_indices = []\n",
    "    for col in features:\n",
    "        mean = df[col].mean()\n",
    "        sd = df[col].std()\n",
    "        outlier_list_col = df[(df[col] < mean - n_std * sd) | \n",
    "                              (df[col] > mean + n_std * sd)].index\n",
    "        outlier_indices.extend(outlier_list_col)\n",
    "    \n",
    "    outlier_indices = list(set(outlier_indices))\n",
    "    return outlier_indices\n",
    "\n",
    "# Apply to training data only\n",
    "train_indices = list(range(len(train_df)))\n",
    "outlier_features = ['GrLivArea', 'TotalBsmtSF', '1stFlrSF', 'TotalSF']\n",
    "outlier_idx = remove_outliers(all_data.iloc[train_indices], outlier_features)\n",
    "\n",
    "# Remove outliers from training data\n",
    "clean_train_indices = [idx for idx in train_indices if idx not in outlier_idx]"
   ]
  },
  {
   "cell_type": "markdown",
   "id": "afb84c37-2cc9-4aef-94aa-55c26397737b",
   "metadata": {},
   "source": [
    "## Feature Scaling and Transformation"
   ]
  },
  {
   "cell_type": "code",
   "execution_count": 12,
   "id": "4bbc77c6-c69e-464d-a636-eab114c49d51",
   "metadata": {},
   "outputs": [],
   "source": [
    "# Log transform skewed features\n",
    "from scipy import stats\n",
    "from scipy.stats import skew\n",
    "\n",
    "# Identify numeric features\n",
    "numeric_features = all_data.select_dtypes(include=[np.number]).columns\n",
    "\n",
    "# Calculate skewness\n",
    "skewed_features = all_data[numeric_features].apply(lambda x: skew(x.dropna())).sort_values(ascending=False)\n",
    "skewness = pd.DataFrame({'Skew': skewed_features})\n",
    "\n",
    "# Transform features with high skewness\n",
    "skewed_features = skewness[abs(skewness['Skew']) > 0.75].index\n",
    "for feat in skewed_features:\n",
    "    all_data[feat] = np.log1p(all_data[feat])\n",
    "\n",
    "# Also transform target variable\n",
    "y_log = np.log1p(y)"
   ]
  },
  {
   "cell_type": "code",
   "execution_count": 13,
   "id": "c481b88d-b1aa-4715-bf19-8dee0cc94984",
   "metadata": {},
   "outputs": [],
   "source": [
    "# Remove features with low variance\n",
    "from sklearn.feature_selection import VarianceThreshold\n",
    "\n",
    "# Apply variance threshold\n",
    "variance_selector = VarianceThreshold(threshold=0.01)\n",
    "all_data_variance = variance_selector.fit_transform(all_data)\n",
    "\n",
    "# Get selected feature names\n",
    "selected_features = all_data.columns[variance_selector.get_support()]\n",
    "all_data_selected = all_data[selected_features]"
   ]
  },
  {
   "cell_type": "markdown",
   "id": "e6fb9e83-fb16-47f0-9ca3-db8d1772ee22",
   "metadata": {},
   "source": [
    "## Final Data Preparation"
   ]
  },
  {
   "cell_type": "code",
   "execution_count": 14,
   "id": "2201f42e-59e0-4598-964a-0e3de6f38e61",
   "metadata": {},
   "outputs": [
    {
     "name": "stdout",
     "output_type": "stream",
     "text": [
      "Training set shape: (1148, 155)\n",
      "Validation set shape: (288, 155)\n",
      "Test set shape: (1459, 155)\n"
     ]
    }
   ],
   "source": [
    "# Split back to train and test\n",
    "train_processed = all_data_selected.iloc[:len(train_df)]\n",
    "test_processed = all_data_selected.iloc[len(train_df):]\n",
    "\n",
    "# Apply clean indices (remove outliers) to training data\n",
    "train_processed_clean = train_processed.iloc[clean_train_indices]\n",
    "y_clean = y_log.iloc[clean_train_indices]\n",
    "\n",
    "# Scale the features\n",
    "scaler = StandardScaler()\n",
    "train_scaled = scaler.fit_transform(train_processed_clean)\n",
    "test_scaled = scaler.transform(test_processed)\n",
    "\n",
    "# Create train/validation split\n",
    "X_train, X_val, y_train, y_val = train_test_split(\n",
    "    train_scaled, y_clean, test_size=0.2, random_state=42\n",
    ")\n",
    "\n",
    "print(f\"Training set shape: {X_train.shape}\")\n",
    "print(f\"Validation set shape: {X_val.shape}\")\n",
    "print(f\"Test set shape: {test_scaled.shape}\")"
   ]
  }
 ],
 "metadata": {
  "kernelspec": {
   "display_name": "Python 3 (ipykernel)",
   "language": "python",
   "name": "python3"
  },
  "language_info": {
   "codemirror_mode": {
    "name": "ipython",
    "version": 3
   },
   "file_extension": ".py",
   "mimetype": "text/x-python",
   "name": "python",
   "nbconvert_exporter": "python",
   "pygments_lexer": "ipython3",
   "version": "3.11.7"
  }
 },
 "nbformat": 4,
 "nbformat_minor": 5
}
